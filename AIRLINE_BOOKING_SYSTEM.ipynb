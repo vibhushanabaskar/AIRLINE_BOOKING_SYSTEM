{
 "cells": [
  {
   "cell_type": "code",
   "execution_count": 1,
   "metadata": {},
   "outputs": [],
   "source": [
    "import pandas as pd\n",
    "import string\n",
    "import random"
   ]
  },
  {
   "cell_type": "code",
   "execution_count": 3,
   "metadata": {},
   "outputs": [],
   "source": [
    "def enter_value(inner_key):\n",
    "  value = input(f\"Enter available seats in '{inner_key}' class (only numbers): \")\n",
    "  if value.isdigit():\n",
    "    return int(value)\n",
    "  else:\n",
    "    print(\"Invalid input. Please enter a valid number.\")\n",
    "    return enter_value(inner_key)"
   ]
  },
  {
   "cell_type": "code",
   "execution_count": 4,
   "metadata": {},
   "outputs": [],
   "source": [
    "def airline_details():\n",
    "  flights = {}\n",
    "  while True:\n",
    "    outer_key = input(\"Enter an airline name (or 'end' to stop adding): \").upper()\n",
    "    if outer_key.lower() == \"end\":\n",
    "      break\n",
    "    inner_key = input(f\"Enter class '{outer_key}': \").upper()\n",
    "    value = enter_value(inner_key)\n",
    "    if outer_key not in flights:\n",
    "      flights[outer_key] = {}\n",
    "    flights[outer_key][inner_key] = value\n",
    "  return flights\n",
    "\n",
    "flights = airline_details()\n",
    "df=pd.DataFrame(flights)"
   ]
  },
  {
   "cell_type": "code",
   "execution_count": 5,
   "metadata": {},
   "outputs": [],
   "source": [
    "def generate_ticket_number():\n",
    "  num = string.digits\n",
    "  numbers = ''.join(random.choices(num, k=7))\n",
    "  ticket = \"TCKT-\" + numbers\n",
    "  return ticket"
   ]
  },
  {
   "cell_type": "code",
   "execution_count": 6,
   "metadata": {},
   "outputs": [],
   "source": [
    "def display_available_flights(flights):\n",
    "  for airline, classes in flights.items():\n",
    "    print(f\"\\nAirline: {airline}\")\n",
    "    for class_type, seats in classes.items():\n",
    "      print(f\"\\tClass: {class_type} - Seats Available: {seats}\")"
   ]
  },
  {
   "cell_type": "code",
   "execution_count": 7,
   "metadata": {},
   "outputs": [],
   "source": [
    "def enter_airline(flights):\n",
    "  list_airlines = list(flights.keys())\n",
    "  arl=input(f\"Enter the airline you want to book with {list_airlines}: \").upper()\n",
    "  if arl not in list_airlines:\n",
    "    print(\"Invalid airline. Please try again.\")\n",
    "    return enter_airline(flights)\n",
    "  else:\n",
    "    return arl"
   ]
  },
  {
   "cell_type": "code",
   "execution_count": 8,
   "metadata": {},
   "outputs": [],
   "source": [
    "def enter_class(flights,airline):\n",
    "  class_type = list(flights[airline].keys())\n",
    "  ct=input(f\"Enter the airline you want to book with {class_type}: \").upper()\n",
    "  if ct not in class_type:\n",
    "    print(\"Invalid class type. Please try again.\")\n",
    "    return enter_class(flights,airline)\n",
    "  else:\n",
    "    return ct"
   ]
  },
  {
   "cell_type": "code",
   "execution_count": 9,
   "metadata": {},
   "outputs": [],
   "source": [
    "def book_ticket(flights, all_passengers_list, name, age, gender, from_city, to_city):\n",
    "  airline=enter_airline(flights)\n",
    "  a_class=enter_class(flights,airline)\n",
    "\n",
    "  if airline not in flights or a_class not in flights[airline]:\n",
    "    print(\"Invalid airline or class. Please try again.\")\n",
    "    return\n",
    "  if flights[airline][a_class] <= 0:\n",
    "    print(f\"Sorry, there are no seats available in {a_class} class for {airline}.\")\n",
    "    return\n",
    "\n",
    "  ticket_number = generate_ticket_number()\n",
    "  flights[airline][a_class] -= 1\n",
    "\n",
    "  print(f\"\\nConfirm your details:\")\n",
    "  all_passengers_list.append([ticket_number,name,age,gender,airline,a_class,from_city,to_city])\n",
    "\n",
    "  print(f\"\\tTicket Number: {ticket_number}\")\n",
    "  print(f\"\\tPassenger Name: {name}\")\n",
    "  print(f\"\\tAge: {age}\")\n",
    "  print(f\"\\tGender: {gender}\")\n",
    "  print(f\"\\tAirline: {airline}\")\n",
    "  print(f\"\\tClass: {a_class}\")\n",
    "  print(f\"\\tFrom city: {from_city}\")\n",
    "  print(f\"\\tDestination city: {to_city}\")\n",
    "\n",
    "  confirmation=input(\"Confirm your details and booking (yes/no): \")\n",
    "  if confirmation.lower()==\"yes\":\n",
    "    print(\"Your booking has been confirmed.\")\n",
    "  else:\n",
    "    print(\"Booking cancelled.\")\n",
    "    flights[airline][a_class] += 1\n",
    "    all_passengers_list.remove([ticket_number,name,age,gender,airline,a_class,from_city,to_city])\n",
    "    print(f\"Your ticket {ticket_number} has been cancelled.\")\n",
    "    return"
   ]
  },
  {
   "cell_type": "code",
   "execution_count": 10,
   "metadata": {},
   "outputs": [],
   "source": [
    "def cancel_ticket(flights, ticket_number, all_passengers_list):\n",
    "  cancelled = False\n",
    "  for passenger in all_passengers_list:\n",
    "    if passenger[0] == ticket_number:\n",
    "      all_passengers_list.remove(passenger)\n",
    "      flights[passenger[4]][passenger[5]] += 1\n",
    "      cancelled = True\n",
    "      break\n",
    "  if cancelled:\n",
    "    print(f\"Your ticket {ticket_number} has been cancelled.\")\n",
    "  else:\n",
    "    print(f\"Ticket number '{ticket_number}' not found.\")"
   ]
  },
  {
   "cell_type": "code",
   "execution_count": 11,
   "metadata": {},
   "outputs": [],
   "source": [
    "def view_all_passengers(all_passengers_list):\n",
    "  if not all_passengers_list:\n",
    "    print(\"No passengers booked yet.\")\n",
    "    return\n",
    "  df = pd.DataFrame(all_passengers_list, columns=[\"Ticket Number\", \"Name\", \"Age\", \"Gender\", \"Airline\", \"Class\", \"From city\", \"Destination city\"])\n",
    "  print(df.to_string(index=False))"
   ]
  },
  {
   "cell_type": "code",
   "execution_count": 12,
   "metadata": {},
   "outputs": [],
   "source": [
    "def age():\n",
    "  a=input(\"Enter your age: \")\n",
    "  if a.isdigit():\n",
    "    return int(a)\n",
    "  else:\n",
    "    print(\"Invalid age. Please enter a valid number.\")\n",
    "    return age()"
   ]
  },
  {
   "cell_type": "code",
   "execution_count": 13,
   "metadata": {},
   "outputs": [],
   "source": [
    "def gender():\n",
    "  g=input(\"Enter your gender (M/F/Other): \").upper()\n",
    "  if g in ['M', 'F', 'O']:\n",
    "    return g\n",
    "  else:\n",
    "    print(\"Invalid gender. Please enter a valid character (M/F/O)\")\n",
    "    return gender()"
   ]
  },
  {
   "cell_type": "code",
   "execution_count": 14,
   "metadata": {},
   "outputs": [],
   "source": [
    "def from_to_city():\n",
    "  from_city=input(\"Enter your from city: \").upper()\n",
    "  to_city=input(\"Enter your destination city: \").upper()\n",
    "  return from_city,to_city"
   ]
  },
  {
   "cell_type": "code",
   "execution_count": 15,
   "metadata": {},
   "outputs": [],
   "source": [
    "def main():\n",
    "  global flights\n",
    "  all_passengers_list = []\n",
    "\n",
    "  while True:\n",
    "    print(\"\\nMenu \\n1. Airline details \\n2. Book ticket \\n3. Cancel ticket \\n4. View all passengers details \\n5. Exit\")\n",
    "    choice=int(input(\"Enter your choice (1/2/3/4/5): \"))\n",
    "    if choice==1:\n",
    "      print(\"Airlines details:\")\n",
    "      print(df)\n",
    "    elif choice==2:\n",
    "      print(\"Flight availabilty: \")\n",
    "      display_available_flights(flights)\n",
    "      name=input(\"Enter your name: \").upper()\n",
    "      your_age=age()\n",
    "      your_gender=gender()\n",
    "      from_city,to_city=from_to_city()\n",
    "      book_ticket(flights, all_passengers_list, name, your_age, your_gender, from_city, to_city)\n",
    "    elif choice==3:\n",
    "      your_ticket_number=input(\"Enter your ticket number: \")\n",
    "      cancel_ticket(flights,your_ticket_number,all_passengers_list)\n",
    "    elif choice==4:\n",
    "      view_all_passengers(all_passengers_list)\n",
    "    elif choice==5:\n",
    "      print(\"Thank you for using our airline booking system.\")\n",
    "      break\n",
    "    else:\n",
    "      print(\"invalid choice. Please choose (1/2/3/4/5).\")"
   ]
  },
  {
   "cell_type": "code",
   "execution_count": 16,
   "metadata": {},
   "outputs": [
    {
     "name": "stdout",
     "output_type": "stream",
     "text": [
      "\n",
      "Menu \n",
      "1. Airline details \n",
      "2. Book ticket \n",
      "3. Cancel ticket \n",
      "4. View all passengers details \n",
      "5. Exit\n",
      "Airlines details:\n",
      "          INDIGO\n",
      "BUSINESS      20\n",
      "ECONOMY       50\n",
      "FIRST         15\n",
      "\n",
      "Menu \n",
      "1. Airline details \n",
      "2. Book ticket \n",
      "3. Cancel ticket \n",
      "4. View all passengers details \n",
      "5. Exit\n",
      "Flight availabilty: \n",
      "\n",
      "Airline: INDIGO\n",
      "\tClass: FIRST - Seats Available: 15\n",
      "\tClass: BUSINESS - Seats Available: 20\n",
      "\tClass: ECONOMY - Seats Available: 50\n",
      "\n",
      "Confirm your details:\n",
      "\tTicket Number: TCKT-9381815\n",
      "\tPassenger Name: VIBHUSHANA BASKAR\n",
      "\tAge: 19\n",
      "\tGender: F\n",
      "\tAirline: INDIGO\n",
      "\tClass: FIRST\n",
      "\tFrom city: CBE\n",
      "\tDestination city: MUMBAI\n",
      "Booking cancelled.\n",
      "Your ticket TCKT-9381815 has been cancelled.\n",
      "\n",
      "Menu \n",
      "1. Airline details \n",
      "2. Book ticket \n",
      "3. Cancel ticket \n",
      "4. View all passengers details \n",
      "5. Exit\n",
      "Flight availabilty: \n",
      "\n",
      "Airline: INDIGO\n",
      "\tClass: FIRST - Seats Available: 15\n",
      "\tClass: BUSINESS - Seats Available: 20\n",
      "\tClass: ECONOMY - Seats Available: 50\n",
      "Invalid age. Please enter a valid number.\n",
      "\n",
      "Confirm your details:\n",
      "\tTicket Number: TCKT-7384644\n",
      "\tPassenger Name: SUCHETA\n",
      "\tAge: 20\n",
      "\tGender: F\n",
      "\tAirline: INDIGO\n",
      "\tClass: BUSINESS\n",
      "\tFrom city: CBE\n",
      "\tDestination city: DELHI\n",
      "Your booking has been confirmed.\n",
      "\n",
      "Menu \n",
      "1. Airline details \n",
      "2. Book ticket \n",
      "3. Cancel ticket \n",
      "4. View all passengers details \n",
      "5. Exit\n",
      "Thank you for using our airline booking system.\n"
     ]
    }
   ],
   "source": [
    "if __name__==\"__main__\":\n",
    "   main()"
   ]
  }
 ],
 "metadata": {
  "kernelspec": {
   "display_name": "Python 3",
   "language": "python",
   "name": "python3"
  },
  "language_info": {
   "codemirror_mode": {
    "name": "ipython",
    "version": 3
   },
   "file_extension": ".py",
   "mimetype": "text/x-python",
   "name": "python",
   "nbconvert_exporter": "python",
   "pygments_lexer": "ipython3",
   "version": "3.11.9"
  }
 },
 "nbformat": 4,
 "nbformat_minor": 2
}
